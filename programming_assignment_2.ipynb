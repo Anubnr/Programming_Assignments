{
 "cells": [
  {
   "cell_type": "code",
   "execution_count": null,
   "id": "3eb5a4fc",
   "metadata": {},
   "outputs": [],
   "source": [
    "# 1. Write a Python program to convert kilometers to miles?\n",
    "\n",
    "km = float(input(\"enter the kilometers: \"))\n",
    "\n",
    "miles = km*0.62137  # 1 km is 0.62137 \n",
    "\n",
    "print(\"meters for the given kilometers: \", meters)"
   ]
  },
  {
   "cell_type": "code",
   "execution_count": null,
   "id": "7807f002",
   "metadata": {},
   "outputs": [],
   "source": [
    "#2. Write a Python program to convert Celsius to Fahrenheit?\n",
    "\n",
    "c = float(input(\"enter the Celsius value: \"))\n",
    "\n",
    "f = c*(9/5)+32\n",
    "\n",
    "print(\"Fahrenheit value for the given Celsius value is: \", f)"
   ]
  },
  {
   "cell_type": "code",
   "execution_count": null,
   "id": "d33fc030",
   "metadata": {},
   "outputs": [],
   "source": [
    "# 3. Write a Python program to display calendar?\n",
    "\n",
    "import calendar\n",
    "\n",
    "year = int(input(\"enter the year: \"))\n",
    "month = int(input(\"enter the month: \"))\n",
    "\n",
    "print(calendar.month(year,month))"
   ]
  },
  {
   "cell_type": "code",
   "execution_count": null,
   "id": "4a701249",
   "metadata": {},
   "outputs": [],
   "source": [
    "# 4. Write a Python program to solve quadratic equation?\n",
    "\n",
    "import cmath\n",
    "\n",
    "a = float(input(\"enter a value: \"))\n",
    "b = float(input(\"enter b value: \"))\n",
    "c = float(input(\"enter c value: \")) \n",
    "\n",
    "# solution for quadratic equation is (-b+(b**2-4*a*c)**0.5)/2*a\n",
    "\n",
    "d = (b**2)-(4*a*c)\n",
    "\n",
    "sol1 = (-b + cmath.sqrt(d))/(2*a)\n",
    "sol2 = (-b - cmath.sqrt(d))/(2*a)\n",
    "\n",
    "print(\"the solutions for quadratic equation: \", sol1,sol2)"
   ]
  },
  {
   "cell_type": "code",
   "execution_count": null,
   "id": "db36fe0c",
   "metadata": {},
   "outputs": [],
   "source": [
    "# 5. Write a Python program to swap two variables without temp variable?\n",
    "\n",
    "x = input()\n",
    "y = input()\n",
    "\n",
    "x,y = y,x\n",
    "\n",
    "print(x,y)\n"
   ]
  },
  {
   "cell_type": "code",
   "execution_count": null,
   "id": "0192cb1d",
   "metadata": {},
   "outputs": [],
   "source": []
  },
  {
   "cell_type": "code",
   "execution_count": null,
   "id": "25114e83",
   "metadata": {},
   "outputs": [],
   "source": []
  },
  {
   "cell_type": "code",
   "execution_count": null,
   "id": "76df62d7",
   "metadata": {},
   "outputs": [],
   "source": []
  },
  {
   "cell_type": "code",
   "execution_count": null,
   "id": "0a480e68",
   "metadata": {},
   "outputs": [],
   "source": []
  }
 ],
 "metadata": {
  "kernelspec": {
   "display_name": "Python 3 (ipykernel)",
   "language": "python",
   "name": "python3"
  },
  "language_info": {
   "codemirror_mode": {
    "name": "ipython",
    "version": 3
   },
   "file_extension": ".py",
   "mimetype": "text/x-python",
   "name": "python",
   "nbconvert_exporter": "python",
   "pygments_lexer": "ipython3",
   "version": "3.9.7"
  }
 },
 "nbformat": 4,
 "nbformat_minor": 5
}
